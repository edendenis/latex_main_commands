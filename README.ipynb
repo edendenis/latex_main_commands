{
 "cells": [
  {
   "cell_type": "markdown",
   "metadata": {},
   "source": [
    "# Como instalar/configurar/usar o `principais comandos do LaTeX` no `Linux Ubuntu`\n",
    "\n",
    "## Resumo\n",
    "\n",
    "Neste documento estão contidos os principais comandos e configurações para configurar/instalar/usar o `principais comandos do LaTeX` no `Linux Ubuntu`.\n",
    "\n",
    "## _Abstract_\n",
    "\n",
    "_This document contains the main commands and settings for configuring/installing/use `LaTeX main commands` on `Linux Ubuntu`._ "
   ]
  },
  {
   "cell_type": "markdown",
   "metadata": {
    "vscode": {
     "languageId": "plaintext"
    }
   },
   "source": [
    "### Construído com\n",
    "\n",
    "Esta seção deve listar todas as principais estruturas/bibliotecas usadas para inicializar seu projeto, bem como a sequência de instalação. Deixe quaisquer complementos/plugins para a seção de agradecimentos. Aqui estão alguns exemplos.\n",
    "\n",
    "* [![Texlive](https://img.shields.io/badge/Texlive-3776AB?style=flat-square&logo=latex&logoColor=white)](https://tug.org/texlive/)\n",
    "\n",
    "* [![JabRef](https://img.shields.io/badge/JabRef-44A833?style=flat-square&logo=latex&logoColor=white)](https://www.jabref.org/)\n",
    "\n",
    "* [![Texstudio](https://img.shields.io/badge/Texstudio-008080?style=flat-square&logo=latex&logoColor=white)](https://www.texstudio.org/)\n",
    "\n",
    "* [![MathPix](https://img.shields.io/badge/MathPix-008080?style=flat-square&logo=MathPix&logoColor=white)](https://mathpix.com/)\n",
    "\n",
    "<p align=\"right\">(<a href=\"#readme-top\">voltar ao topo</a>)</p>\n"
   ]
  },
  {
   "cell_type": "markdown",
   "metadata": {},
   "source": [
    "## Descrição [2]\n",
    "\n",
    "### ``TeXstudio``\n",
    "\n",
    "O `TeXstudio` é um ambiente integrado de desenvolvimento (IDE) gratuito e de código aberto projetado especificamente para facilitar a criação e edição de documentos `LaTeX`, um sistema de composição tipográfica amplamente utilizado para produzir documentos científicos, acadêmicos e técnicos de alta qualidade. Com recursos como realce de sintaxe, correção automática, assistência de código e visualização em tempo real, o `TeXstudio` torna o processo de escrita e formatação de documentos `LaTeX` mais eficiente e acessível. Ele oferece uma interface amigável para a configuração de projetos, gerenciamento de bibliotecas de referências, bem como integração com o `TeX Live` e outras distribuições `LaTeX`, tornando-o uma escolha popular entre autores e pesquisadores que buscam uma ferramenta poderosa e conveniente para produzir documentos técnico-científicos de alta qualidade.\n",
    "\n"
   ]
  },
  {
   "cell_type": "markdown",
   "metadata": {},
   "source": [
    "## 1. Configurar/Instalar/Usar o `principais comandos do LaTeX` no `Linux Ubuntu` [1]\n",
    "\n",
    "Para configurar/instalar/usar o `principais comandos do LaTeX` no `Linux Ubuntu`, você pode seguir os seguintes passos:\n",
    "\n",
    "1. Abra o `Terminal Emulator`. Você pode fazer isso pressionando: `Ctrl + Alt + T`\n"
   ]
  },
  {
   "cell_type": "markdown",
   "metadata": {},
   "source": [
    "2. Certifique-se de que seu sistema esteja limpo e atualizado.\n",
    "\n",
    "    2.1 Limpar o `cache` do gerenciador de pacotes `apt`. Especificamente, ele remove todos os arquivos de pacotes (`.deb`) baixados pelo `apt` e armazenados em `/var/cache/apt/archives/`. Digite o seguinte comando:\n",
    "    \n",
    "    ```bash\n",
    "    sudo apt clean\n",
    "    ``` \n",
    "    \n",
    "    2.2 Remover pacotes `.deb` antigos ou duplicados do cache local. É útil para liberar espaço, pois remove apenas os pacotes que não podem mais ser baixados (ou seja, versões antigas de pacotes que foram atualizados). Digite o seguinte comando:\n",
    "    \n",
    "    ```bash\n",
    "    sudo apt autoclean\n",
    "    ```\n",
    "\n",
    "    2.3 Remover pacotes que foram automaticamente instalados para satisfazer as dependências de outros pacotes e que não são mais necessários. Digite o seguinte comando:\n",
    "    \n",
    "    ```bash\n",
    "    sudo apt autoremove -y\n",
    "    ```\n",
    "\n",
    "    2.4 Buscar as atualizações disponíveis para os pacotes que estão instalados em seu sistema. Digite o seguinte comando e pressione `Enter`: \n",
    "    \n",
    "    ```bash\n",
    "    sudo apt update\n",
    "    ```\n",
    "\n",
    "    2.5 **Corrigir pacotes quebrados**: Isso atualizará a lista de pacotes disponíveis e tentará corrigir pacotes quebrados ou com dependências ausentes:\n",
    "    \n",
    "    ```bash\n",
    "    sudo apt --fix-broken install\n",
    "    ```\n",
    "\n",
    "    2.6 Limpar o `cache` do gerenciador de pacotes `apt`. Especificamente, ele remove todos os arquivos de pacotes (`.deb`) baixados pelo `apt` e armazenados em `/var/cache/apt/archives/`. Digite o seguinte comando:\n",
    "    \n",
    "    ```bash\n",
    "    sudo apt clean\n",
    "    ``` \n",
    "    \n",
    "    2.7 Para ver a lista de pacotes a serem atualizados, digite o seguinte comando e pressione `Enter`:  \n",
    "    \n",
    "    ```bash\n",
    "    sudo apt list --upgradable\n",
    "    ```\n",
    "\n",
    "    2.8 Realmente atualizar os pacotes instalados para as suas versões mais recentes, com base na última vez que você executou `sudo apt update`. Digite o seguinte comando e pressione `Enter`:\n",
    "    \n",
    "    ```bash\n",
    "    sudo apt full-upgrade -y\n",
    "    ```"
   ]
  },
  {
   "cell_type": "markdown",
   "metadata": {},
   "source": [
    "## 1.1 Código completo para configurar/instalar/usar o `principais comandos do LaTeX` no `Linux Ubuntu` \n",
    "\n",
    "Para configurar/instalar/usar o `principais comandos do LaTeX` no `Linux Ubuntu` sem precisar digitar linha por linha, você pode seguir estas etapas:\n",
    "\n",
    "1. Abra o `Terminal Emulator`. Você pode fazer isso pressionando: `Ctrl + Alt + T`\n",
    "\n",
    "2. Digite o seguinte comando e pressione `Enter`:\n",
    "\n",
    "    ```bash\n",
    "    sudo apt clean\n",
    "    sudo apt autoclean\n",
    "    sudo apt autoremove -y\n",
    "    sudo apt update\n",
    "    sudo apt --fix-broken install\n",
    "    sudo apt clean\n",
    "    sudo apt list --upgradable\n",
    "    sudo apt full-upgrade -y\n",
    "    sudo apt install texstudio -y\n",
    "    texstudio\n",
    "    texstudio --version\n",
    "    ```"
   ]
  },
  {
   "cell_type": "markdown",
   "metadata": {
    "vscode": {
     "languageId": "plaintext"
    }
   },
   "source": [
    "## 1. Gerar a Lista de Nomenclaturas (variáveis)\n",
    "\n",
    "Para que a sua lista de nomenclaturas seja efetivamente gerada e apareça no `main_<nome_do_projeto>.pdf` você precisa:\n",
    "\n",
    "1. **Carregar o pacote e declarar a nomenclatura**: No preâmbulo do seu `main_<nome_do_projeto>.tex` inclua algo como:\n",
    "\n",
    "  ```latex\n",
    "  % no preâmbulo do main.tex\n",
    "  \\usepackage[intoc]{nomencl}   % intoc = adiciona ao sumário\n",
    "  \\makenomenclature            % gera a lista\n",
    "  ```\n",
    "  Se você já usa `\\input{preamble.tex}`, coloque essas duas linhas lá.\n",
    "\n",
    "2. **Inserir o comando de impressão**: No ponto onde você quer que apareça a lista (normalmente logo após o sumário), coloque:\n",
    "\n",
    "  ```latex\n",
    "  \\printnomenclature\n",
    "  ```\n",
    "\n",
    "3. **Limpe os arquivos auxiliares (opcional mas recomendado)**:\n",
    "\n",
    "```bash\n",
    "latexmk -C\n",
    "```\n",
    "\n",
    "4. **Compilar na ordem correta**: \n",
    "\n",
    "    Depois de rodar\n",
    "\n",
    "    ```bash\n",
    "    pdflatex -interaction=batchmode main_<nome_do_projeto>.tex\n",
    "    ```\n",
    "\n",
    "    é preciso chamar o `makeindex` para processar a nomenclatura:\n",
    "\n",
    "    ```bash\n",
    "    makeindex `main_<nome_do_projeto>`.nlo -s nomencl.ist -o `main_<nome_do_projeto>`.nls\n",
    "    ```\n",
    "    \n",
    "    e só então rodar novamente:\n",
    "\n",
    "    ```bash\n",
    "    pdflatex -interaction=batchmode main_<nome_do_projeto>.tex\n",
    "    pdflatex -interaction=batchmode main_<nome_do_projeto>.tex  % uma segunda vez garante referências corretas\n",
    "    ```\n",
    "\n",
    "Pronto — agora, repetindo o passo de `makeindex`, a sua lista deve aparecer em `main_<nome_do_projeto>.pdf`."
   ]
  },
  {
   "cell_type": "markdown",
   "metadata": {
    "vscode": {
     "languageId": "plaintext"
    }
   },
   "source": [
    "## 2. Gerar o Índice Remissivo (Index)\n",
    "\n",
    "Para que o índice remissivo (lista de palavras-chave com referência às páginas, como em livros técnicos) apareça corretamente no arquivo `main_<nome_do_projeto>.pdf`, siga os passos abaixo:\n",
    "\n",
    "1. **Carregar o pacote e ativar o índice**: No preâmbulo do seu `main_<nome_do_projeto>.tex` (ou no `preamble.tex`), inclua as seguintes linhas:\n",
    "\n",
    "  ```latex\n",
    "  \\usepackage{makeidx}  % habilita suporte ao índice\n",
    "  \\makeindex            % ativa a criação do arquivo .idx\n",
    "  ```\n",
    "\n",
    "2. **Inserir entradas para o índice**: No corpo do seu texto, marque as palavras ou termos que devem aparecer no índice com o comando:\n",
    "\n",
    "  ```latex\n",
    "  \\index{palavra-chave}\n",
    "  ```\n",
    "\n",
    "  Exemplos:\n",
    "\n",
    "  ```latex\n",
    "  O número de Mach\\index{número de Mach} é fundamental no escoamento compressível.\n",
    "  O programa RPA\\index{RPA} é utilizado para análise de motores foguetes.\n",
    "  ```\n",
    "  \n",
    "  Você também pode usar índices hierárquicos, do tipo:\n",
    "\n",
    "  ```latex\n",
    "  \\index{combustão!pré-misturada}\n",
    "  \\index{combustão!estequiométrica}\n",
    "  ```\n",
    "\n",
    "3. **Inserir o índice no documento**: No ponto onde você deseja que o índice seja impresso (normalmente ao final do documento), adicione:\n",
    "\n",
    "  ```latex\n",
    "  \\cleardoublepage\n",
    "  \\phantomsection\n",
    "  \\addcontentsline{toc}{section}{Índice Remissivo}\n",
    "  \\printindex\n",
    "  ```\n",
    "\n",
    "4. **Limpe os arquivos auxiliares (opcional mas recomendado)**:\n",
    "\n",
    "```bash\n",
    "latexmk -C\n",
    "```\n",
    "\n",
    "5. **Compilar na ordem correta**: Compile o documento usando a seguinte sequência de comandos:\n",
    "\n",
    "  ```bash\n",
    "  pdflatex -interaction=batchmode main_<nome_do_projeto>.tex\n",
    "  makeindex main_<nome_do_projeto>.idx\n",
    "  pdflatex -interaction=batchmode main_<nome_do_projeto>.tex\n",
    "  pdflatex -interaction=batchmode main_<nome_do_projeto>.tex\n",
    "  ```\n",
    "\n",
    "Pronto! Agora, o índice remissivo será gerado e aparecerá corretamente no final do seu `main_<nome_do_projeto>.pdf`.\n",
    "\n",
    "> **Obs.**: Para garantir que o índice apareça no sumário, é importante usar `\\addcontentsline` como mostrado acima. Se estiver usando a classe `book` ou `abntex2`, o comando pode ser adaptado para `\\chapter*{Índice Remissivo}` ou `\\section*{Índice Remissivo}`, conforme a estrutura do documento."
   ]
  },
  {
   "cell_type": "markdown",
   "metadata": {
    "vscode": {
     "languageId": "plaintext"
    }
   },
   "source": [
    "## 3. Como compilar\n",
    "\n",
    "1. **Limpe os arquivos auxiliares (opcional mas recomendado)**:\n",
    "\n",
    "```bash\n",
    "latexmk -C\n",
    "```\n",
    "\n",
    "2. Para que as citações apareçam corretamente, o documento precisa ser\n",
    "compilado executando o `BibTeX`. A maneira recomendada é utilizar o\n",
    "`latexmk`, que automatiza todo o processo:\n",
    "\n",
    "```bash\n",
    "latexmk -pdf -silent main_<nome_do_projeto>.tex\n",
    "```\n",
    "\n",
    "Se desejar chamar cada etapa manualmente, use a sequência abaixo:\n",
    "\n",
    "```bash\n",
    "pdflatex -interaction=batchmode main_<nome_do_projeto>.tex\n",
    "bibtex main_<nome_do_projeto>\n",
    "pdflatex -interaction=batchmode main_<nome_do_projeto>.tex\n",
    "pdflatex -interaction=batchmode main_<nome_do_projeto>.tex\n",
    "```\n",
    "\n",
    "Isso garantirá que comandos como `\\cite{Linnaeus1758}` produzam a\n",
    "referência adequada no PDF final."
   ]
  },
  {
   "cell_type": "markdown",
   "metadata": {
    "vscode": {
     "languageId": "plaintext"
    }
   },
   "source": [
    "## Referências\n",
    "\n",
    "[1] OPENAI. ***Ativar autosave no `texstudio`.*** Disponível em: <https://chat.openai.com/c/210ca6d2-7da5-4830-890a-b8e1cb0ee7ee> (texto adaptado). ChatGPT. Acessado em: 27/11/2023 10:44.\n",
    "\n",
    "[2] OPENAI. ***Vs code: editor popular.*** Disponível em: <https://chat.openai.com/c/b640a25d-f8e3-4922-8a3b-ed74a2657e42> (texto adaptado). ChatGPT. Acessado em: 14/11/2023 18:56.\n",
    "\n",
    "[3] USER: CHANDRA HAS. ***Texstudio auto-compilation/live preview feature (latex tips)/solution-51.*** Disponível em: <https://www.youtube.com/watch?v=hO1LmNtKg1w> (texto adaptado). YouTube. Acessado em: 18/01/2024 08:46.\n"
   ]
  }
 ],
 "metadata": {
  "kernelspec": {
   "display_name": "Python 3",
   "language": "python",
   "name": "python3"
  },
  "language_info": {
   "codemirror_mode": {
    "name": "ipython",
    "version": 3
   },
   "file_extension": ".py",
   "mimetype": "text/x-python",
   "name": "python",
   "nbconvert_exporter": "python",
   "pygments_lexer": "ipython3",
   "version": "3.11.5"
  },
  "orig_nbformat": 4
 },
 "nbformat": 4,
 "nbformat_minor": 2
}
